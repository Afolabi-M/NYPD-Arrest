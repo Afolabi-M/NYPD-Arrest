{
 "cells": [
  {
   "cell_type": "code",
   "execution_count": 2,
   "id": "90b2da49-ba7d-487e-ac0b-6fd5de3d8503",
   "metadata": {},
   "outputs": [],
   "source": [
    "import numpy as np\n",
    "import pandas as pd\n",
    "import matplotlib.pyplot as plt\n",
    "import seaborn as sns"
   ]
  },
  {
   "cell_type": "code",
   "execution_count": 4,
   "id": "8abb1194-9b7c-4542-9916-76c489b7a00c",
   "metadata": {},
   "outputs": [],
   "source": [
    "nypd_df = pd.read_csv('NYPD.csv')"
   ]
  },
  {
   "cell_type": "code",
   "execution_count": 6,
   "id": "e6de4ff6-bb80-484c-bd19-91a8783df31b",
   "metadata": {},
   "outputs": [
    {
     "data": {
      "text/html": [
       "<div>\n",
       "<style scoped>\n",
       "    .dataframe tbody tr th:only-of-type {\n",
       "        vertical-align: middle;\n",
       "    }\n",
       "\n",
       "    .dataframe tbody tr th {\n",
       "        vertical-align: top;\n",
       "    }\n",
       "\n",
       "    .dataframe thead th {\n",
       "        text-align: right;\n",
       "    }\n",
       "</style>\n",
       "<table border=\"1\" class=\"dataframe\">\n",
       "  <thead>\n",
       "    <tr style=\"text-align: right;\">\n",
       "      <th></th>\n",
       "      <th>ARREST_KEY</th>\n",
       "      <th>ARREST_DATE</th>\n",
       "      <th>PD_CD</th>\n",
       "      <th>PD_DESC</th>\n",
       "      <th>KY_CD</th>\n",
       "      <th>OFNS_DESC</th>\n",
       "      <th>LAW_CODE</th>\n",
       "      <th>LAW_CAT_CD</th>\n",
       "      <th>ARREST_BORO</th>\n",
       "      <th>ARREST_PRECINCT</th>\n",
       "      <th>JURISDICTION_CODE</th>\n",
       "      <th>AGE_GROUP</th>\n",
       "      <th>PERP_SEX</th>\n",
       "      <th>PERP_RACE</th>\n",
       "      <th>X_COORD_CD</th>\n",
       "      <th>Y_COORD_CD</th>\n",
       "      <th>Latitude</th>\n",
       "      <th>Longitude</th>\n",
       "      <th>New Georeferenced Column</th>\n",
       "    </tr>\n",
       "  </thead>\n",
       "  <tbody>\n",
       "    <tr>\n",
       "      <th>0</th>\n",
       "      <td>279884335</td>\n",
       "      <td>01/03/2024</td>\n",
       "      <td>153.0</td>\n",
       "      <td>RAPE 3</td>\n",
       "      <td>104.0</td>\n",
       "      <td>RAPE</td>\n",
       "      <td>PL 1302503</td>\n",
       "      <td>F</td>\n",
       "      <td>K</td>\n",
       "      <td>77</td>\n",
       "      <td>0</td>\n",
       "      <td>45-64</td>\n",
       "      <td>M</td>\n",
       "      <td>BLACK</td>\n",
       "      <td>1003509</td>\n",
       "      <td>185018</td>\n",
       "      <td>40.674496</td>\n",
       "      <td>-73.930571</td>\n",
       "      <td>POINT (-73.9305713255961 40.6744956865259)</td>\n",
       "    </tr>\n",
       "    <tr>\n",
       "      <th>1</th>\n",
       "      <td>279876234</td>\n",
       "      <td>01/03/2024</td>\n",
       "      <td>105.0</td>\n",
       "      <td>STRANGULATION 1ST</td>\n",
       "      <td>106.0</td>\n",
       "      <td>FELONY ASSAULT</td>\n",
       "      <td>PL 1211200</td>\n",
       "      <td>F</td>\n",
       "      <td>Q</td>\n",
       "      <td>101</td>\n",
       "      <td>0</td>\n",
       "      <td>25-44</td>\n",
       "      <td>M</td>\n",
       "      <td>BLACK</td>\n",
       "      <td>1053648</td>\n",
       "      <td>158969</td>\n",
       "      <td>40.602740</td>\n",
       "      <td>-73.750081</td>\n",
       "      <td>POINT (-73.750081 40.60274)</td>\n",
       "    </tr>\n",
       "    <tr>\n",
       "      <th>2</th>\n",
       "      <td>279939192</td>\n",
       "      <td>01/04/2024</td>\n",
       "      <td>109.0</td>\n",
       "      <td>ASSAULT 2,1,UNCLASSIFIED</td>\n",
       "      <td>106.0</td>\n",
       "      <td>FELONY ASSAULT</td>\n",
       "      <td>PL 1201001</td>\n",
       "      <td>F</td>\n",
       "      <td>K</td>\n",
       "      <td>83</td>\n",
       "      <td>0</td>\n",
       "      <td>45-64</td>\n",
       "      <td>M</td>\n",
       "      <td>BLACK</td>\n",
       "      <td>1007127</td>\n",
       "      <td>193705</td>\n",
       "      <td>40.698323</td>\n",
       "      <td>-73.917495</td>\n",
       "      <td>POINT (-73.917495 40.698323)</td>\n",
       "    </tr>\n",
       "    <tr>\n",
       "      <th>3</th>\n",
       "      <td>280561026</td>\n",
       "      <td>01/15/2024</td>\n",
       "      <td>203.0</td>\n",
       "      <td>TRESPASS 3, CRIMINAL</td>\n",
       "      <td>352.0</td>\n",
       "      <td>CRIMINAL TRESPASS</td>\n",
       "      <td>PL 140100A</td>\n",
       "      <td>M</td>\n",
       "      <td>S</td>\n",
       "      <td>121</td>\n",
       "      <td>0</td>\n",
       "      <td>18-24</td>\n",
       "      <td>M</td>\n",
       "      <td>BLACK</td>\n",
       "      <td>942827</td>\n",
       "      <td>166373</td>\n",
       "      <td>40.623238</td>\n",
       "      <td>-74.149217</td>\n",
       "      <td>POINT (-74.149217 40.623238)</td>\n",
       "    </tr>\n",
       "    <tr>\n",
       "      <th>4</th>\n",
       "      <td>280084387</td>\n",
       "      <td>01/07/2024</td>\n",
       "      <td>223.0</td>\n",
       "      <td>BURGLARY,RESIDENCE,NIGHT</td>\n",
       "      <td>107.0</td>\n",
       "      <td>BURGLARY</td>\n",
       "      <td>PL 1403002</td>\n",
       "      <td>F</td>\n",
       "      <td>Q</td>\n",
       "      <td>107</td>\n",
       "      <td>0</td>\n",
       "      <td>45-64</td>\n",
       "      <td>M</td>\n",
       "      <td>BLACK</td>\n",
       "      <td>1036732</td>\n",
       "      <td>206997</td>\n",
       "      <td>40.734681</td>\n",
       "      <td>-73.810626</td>\n",
       "      <td>POINT (-73.810626 40.734681)</td>\n",
       "    </tr>\n",
       "  </tbody>\n",
       "</table>\n",
       "</div>"
      ],
      "text/plain": [
       "   ARREST_KEY ARREST_DATE  PD_CD                   PD_DESC  KY_CD  \\\n",
       "0   279884335  01/03/2024  153.0                    RAPE 3  104.0   \n",
       "1   279876234  01/03/2024  105.0         STRANGULATION 1ST  106.0   \n",
       "2   279939192  01/04/2024  109.0  ASSAULT 2,1,UNCLASSIFIED  106.0   \n",
       "3   280561026  01/15/2024  203.0      TRESPASS 3, CRIMINAL  352.0   \n",
       "4   280084387  01/07/2024  223.0  BURGLARY,RESIDENCE,NIGHT  107.0   \n",
       "\n",
       "           OFNS_DESC    LAW_CODE LAW_CAT_CD ARREST_BORO  ARREST_PRECINCT  \\\n",
       "0               RAPE  PL 1302503          F           K               77   \n",
       "1     FELONY ASSAULT  PL 1211200          F           Q              101   \n",
       "2     FELONY ASSAULT  PL 1201001          F           K               83   \n",
       "3  CRIMINAL TRESPASS  PL 140100A          M           S              121   \n",
       "4           BURGLARY  PL 1403002          F           Q              107   \n",
       "\n",
       "   JURISDICTION_CODE AGE_GROUP PERP_SEX PERP_RACE  X_COORD_CD  Y_COORD_CD  \\\n",
       "0                  0     45-64        M     BLACK     1003509      185018   \n",
       "1                  0     25-44        M     BLACK     1053648      158969   \n",
       "2                  0     45-64        M     BLACK     1007127      193705   \n",
       "3                  0     18-24        M     BLACK      942827      166373   \n",
       "4                  0     45-64        M     BLACK     1036732      206997   \n",
       "\n",
       "    Latitude  Longitude                    New Georeferenced Column  \n",
       "0  40.674496 -73.930571  POINT (-73.9305713255961 40.6744956865259)  \n",
       "1  40.602740 -73.750081                 POINT (-73.750081 40.60274)  \n",
       "2  40.698323 -73.917495                POINT (-73.917495 40.698323)  \n",
       "3  40.623238 -74.149217                POINT (-74.149217 40.623238)  \n",
       "4  40.734681 -73.810626                POINT (-73.810626 40.734681)  "
      ]
     },
     "execution_count": 6,
     "metadata": {},
     "output_type": "execute_result"
    }
   ],
   "source": [
    "nypd_df.head()"
   ]
  },
  {
   "cell_type": "code",
   "execution_count": 12,
   "id": "799c5682-bdad-4f75-baef-20d3cde295c7",
   "metadata": {},
   "outputs": [
    {
     "data": {
      "text/plain": [
       "(128778, 19)"
      ]
     },
     "execution_count": 12,
     "metadata": {},
     "output_type": "execute_result"
    }
   ],
   "source": [
    "nypd_df.shape"
   ]
  },
  {
   "cell_type": "code",
   "execution_count": 16,
   "id": "1a53df45-f185-4940-ab4a-5b577ddf0df5",
   "metadata": {},
   "outputs": [
    {
     "name": "stdout",
     "output_type": "stream",
     "text": [
      "<class 'pandas.core.frame.DataFrame'>\n",
      "RangeIndex: 128778 entries, 0 to 128777\n",
      "Data columns (total 19 columns):\n",
      " #   Column                    Non-Null Count   Dtype  \n",
      "---  ------                    --------------   -----  \n",
      " 0   ARREST_KEY                128778 non-null  int64  \n",
      " 1   ARREST_DATE               128778 non-null  object \n",
      " 2   PD_CD                     128774 non-null  float64\n",
      " 3   PD_DESC                   128778 non-null  object \n",
      " 4   KY_CD                     128763 non-null  float64\n",
      " 5   OFNS_DESC                 128778 non-null  object \n",
      " 6   LAW_CODE                  128778 non-null  object \n",
      " 7   LAW_CAT_CD                128008 non-null  object \n",
      " 8   ARREST_BORO               128778 non-null  object \n",
      " 9   ARREST_PRECINCT           128778 non-null  int64  \n",
      " 10  JURISDICTION_CODE         128778 non-null  int64  \n",
      " 11  AGE_GROUP                 128778 non-null  object \n",
      " 12  PERP_SEX                  128778 non-null  object \n",
      " 13  PERP_RACE                 128778 non-null  object \n",
      " 14  X_COORD_CD                128778 non-null  int64  \n",
      " 15  Y_COORD_CD                128778 non-null  int64  \n",
      " 16  Latitude                  128778 non-null  float64\n",
      " 17  Longitude                 128778 non-null  float64\n",
      " 18  New Georeferenced Column  128778 non-null  object \n",
      "dtypes: float64(4), int64(5), object(10)\n",
      "memory usage: 18.7+ MB\n"
     ]
    }
   ],
   "source": [
    "nypd_df.info()"
   ]
  },
  {
   "cell_type": "code",
   "execution_count": 18,
   "id": "eff873a1-34bb-4724-b10e-7608dc25da4c",
   "metadata": {},
   "outputs": [],
   "source": [
    "numerical_cols = nypd_df.select_dtypes(include=['number']).columns"
   ]
  },
  {
   "cell_type": "code",
   "execution_count": 20,
   "id": "dbf4c15d-ebe3-4802-b529-eb4e55fc5043",
   "metadata": {},
   "outputs": [],
   "source": [
    "categorical_cols = nypd_df.select_dtypes(include=['object', 'category']).columns"
   ]
  },
  {
   "cell_type": "code",
   "execution_count": 22,
   "id": "c9276948-fc43-4968-a1fe-d2640b67ce31",
   "metadata": {},
   "outputs": [
    {
     "name": "stdout",
     "output_type": "stream",
     "text": [
      "Numerical Columns:\n",
      "Index(['ARREST_KEY', 'PD_CD', 'KY_CD', 'ARREST_PRECINCT', 'JURISDICTION_CODE',\n",
      "       'X_COORD_CD', 'Y_COORD_CD', 'Latitude', 'Longitude'],\n",
      "      dtype='object')\n"
     ]
    }
   ],
   "source": [
    "# Display the results\n",
    "print(\"Numerical Columns:\")\n",
    "print(numerical_cols)"
   ]
  },
  {
   "cell_type": "code",
   "execution_count": 24,
   "id": "112cfa2d-010e-47da-aa99-4de0e255a219",
   "metadata": {},
   "outputs": [
    {
     "name": "stdout",
     "output_type": "stream",
     "text": [
      "\n",
      "Categorical Columns:\n",
      "Index(['ARREST_DATE', 'PD_DESC', 'OFNS_DESC', 'LAW_CODE', 'LAW_CAT_CD',\n",
      "       'ARREST_BORO', 'AGE_GROUP', 'PERP_SEX', 'PERP_RACE',\n",
      "       'New Georeferenced Column'],\n",
      "      dtype='object')\n"
     ]
    }
   ],
   "source": [
    "print(\"\\nCategorical Columns:\")\n",
    "print(categorical_cols)"
   ]
  },
  {
   "cell_type": "code",
   "execution_count": 26,
   "id": "78606b06-e8d0-470a-b62c-1606179d7f46",
   "metadata": {},
   "outputs": [
    {
     "name": "stdout",
     "output_type": "stream",
     "text": [
      "Missing values in numerical column 'PD_CD' replaced with mean: 432.9507819901533\n",
      "Missing values in numerical column 'KY_CD' replaced with mean: 253.0569961867928\n",
      "Missing values in categorical column 'LAW_CAT_CD' replaced with mode: M\n"
     ]
    }
   ],
   "source": [
    "# Iterate through the columns in the dataset\n",
    "for column in nypd_df.columns:\n",
    "    if nypd_df[column].isnull().sum() > 0:  # Check for missing values\n",
    "        if nypd_df[column].dtype in ['int64', 'float64']:  # Numerical columns\n",
    "            # Replace missing values with the mean for numerical columns\n",
    "            mean_value = nypd_df[column].mean()\n",
    "            nypd_df[column].fillna(mean_value, inplace=True)\n",
    "            print(f\"Missing values in numerical column '{column}' replaced with mean: {mean_value}\")\n",
    "        elif nypd_df[column].dtype in ['object', 'category']:  # Categorical columns\n",
    "            # Replace missing values with the mode for categorical columns\n",
    "            mode_value = nypd_df[column].mode()[0]\n",
    "            nypd_df[column].fillna(mode_value, inplace=True)\n",
    "            print(f\"Missing values in categorical column '{column}' replaced with mode: {mode_value}\")"
   ]
  },
  {
   "cell_type": "code",
   "execution_count": 28,
   "id": "ef912330-ce78-444b-b2ef-891e66596fae",
   "metadata": {},
   "outputs": [
    {
     "name": "stdout",
     "output_type": "stream",
     "text": [
      "\n",
      "Updated Dataset:\n",
      "ARREST_KEY                  0\n",
      "ARREST_DATE                 0\n",
      "PD_CD                       0\n",
      "PD_DESC                     0\n",
      "KY_CD                       0\n",
      "OFNS_DESC                   0\n",
      "LAW_CODE                    0\n",
      "LAW_CAT_CD                  0\n",
      "ARREST_BORO                 0\n",
      "ARREST_PRECINCT             0\n",
      "JURISDICTION_CODE           0\n",
      "AGE_GROUP                   0\n",
      "PERP_SEX                    0\n",
      "PERP_RACE                   0\n",
      "X_COORD_CD                  0\n",
      "Y_COORD_CD                  0\n",
      "Latitude                    0\n",
      "Longitude                   0\n",
      "New Georeferenced Column    0\n",
      "dtype: int64\n"
     ]
    }
   ],
   "source": [
    "# Display the updated dataset to verify changes\n",
    "print(\"\\nUpdated Dataset:\")\n",
    "print(nypd_df.isnull().sum())"
   ]
  },
  {
   "cell_type": "code",
   "execution_count": 30,
   "id": "4191acb4-7dda-45ac-8363-67d311def755",
   "metadata": {},
   "outputs": [
    {
     "name": "stdout",
     "output_type": "stream",
     "text": [
      "<class 'pandas.core.frame.DataFrame'>\n",
      "RangeIndex: 128778 entries, 0 to 128777\n",
      "Data columns (total 19 columns):\n",
      " #   Column                    Non-Null Count   Dtype  \n",
      "---  ------                    --------------   -----  \n",
      " 0   ARREST_KEY                128778 non-null  int64  \n",
      " 1   ARREST_DATE               128778 non-null  object \n",
      " 2   PD_CD                     128778 non-null  float64\n",
      " 3   PD_DESC                   128778 non-null  object \n",
      " 4   KY_CD                     128778 non-null  float64\n",
      " 5   OFNS_DESC                 128778 non-null  object \n",
      " 6   LAW_CODE                  128778 non-null  object \n",
      " 7   LAW_CAT_CD                128778 non-null  object \n",
      " 8   ARREST_BORO               128778 non-null  object \n",
      " 9   ARREST_PRECINCT           128778 non-null  int64  \n",
      " 10  JURISDICTION_CODE         128778 non-null  int64  \n",
      " 11  AGE_GROUP                 128778 non-null  object \n",
      " 12  PERP_SEX                  128778 non-null  object \n",
      " 13  PERP_RACE                 128778 non-null  object \n",
      " 14  X_COORD_CD                128778 non-null  int64  \n",
      " 15  Y_COORD_CD                128778 non-null  int64  \n",
      " 16  Latitude                  128778 non-null  float64\n",
      " 17  Longitude                 128778 non-null  float64\n",
      " 18  New Georeferenced Column  128778 non-null  object \n",
      "dtypes: float64(4), int64(5), object(10)\n",
      "memory usage: 18.7+ MB\n"
     ]
    }
   ],
   "source": [
    "nypd_df.info()"
   ]
  },
  {
   "cell_type": "code",
   "execution_count": 32,
   "id": "c561d6ec-ebdc-44b1-bc36-d214021dcde7",
   "metadata": {},
   "outputs": [],
   "source": [
    "from scipy import stats"
   ]
  },
  {
   "cell_type": "code",
   "execution_count": 34,
   "id": "a45a4f59-32a3-4f5a-8dae-31442677762b",
   "metadata": {},
   "outputs": [],
   "source": [
    "# calculate Z-scores\n",
    "z_scores = np.abs(stats.zscore(nypd_df[numerical_cols]))"
   ]
  },
  {
   "cell_type": "code",
   "execution_count": 36,
   "id": "dedba171-505b-4b95-8bf2-f571223f1dde",
   "metadata": {},
   "outputs": [
    {
     "name": "stdout",
     "output_type": "stream",
     "text": [
      "Outliers based on Z-scores:\n",
      "        ARREST_KEY ARREST_DATE  PD_CD                         PD_DESC  KY_CD  \\\n",
      "15       282350930  02/17/2024  101.0                       ASSAULT 3  344.0   \n",
      "15       282350930  02/17/2024  101.0                       ASSAULT 3  344.0   \n",
      "15       282350930  02/17/2024  101.0                       ASSAULT 3  344.0   \n",
      "15       282350930  02/17/2024  101.0                       ASSAULT 3  344.0   \n",
      "103      280739941  01/18/2024   49.0          U.S. CODE UNCLASSIFIED  995.0   \n",
      "...            ...         ...    ...                             ...    ...   \n",
      "128502   288645740  06/17/2024  969.0  TRAFFIC,UNCLASSIFIED INFRACTIO  881.0   \n",
      "128515   289215175  06/27/2024  268.0              CRIMINAL MIS 2 & 3  121.0   \n",
      "128524   288678832  06/18/2024  339.0  LARCENY,PETIT FROM OPEN AREAS,  341.0   \n",
      "128603   288403584  06/12/2024  782.0        WEAPONS, POSSESSION, ETC  236.0   \n",
      "128733   289244075  06/28/2024   49.0          U.S. CODE UNCLASSIFIED  995.0   \n",
      "\n",
      "                             OFNS_DESC    LAW_CODE LAW_CAT_CD ARREST_BORO  \\\n",
      "15        ASSAULT 3 & RELATED OFFENSES  PL 1200001          M           M   \n",
      "15        ASSAULT 3 & RELATED OFFENSES  PL 1200001          M           M   \n",
      "15        ASSAULT 3 & RELATED OFFENSES  PL 1200001          M           M   \n",
      "15        ASSAULT 3 & RELATED OFFENSES  PL 1200001          M           M   \n",
      "103              FOR OTHER AUTHORITIES  FOA9000049          M           K   \n",
      "...                                ...         ...        ...         ...   \n",
      "128502        OTHER TRAFFIC INFRACTION  VTL051101A          M           M   \n",
      "128515  CRIMINAL MISCHIEF & RELATED OF  PL 1450502          F           S   \n",
      "128524                   PETIT LARCENY  PL 1552500          M           S   \n",
      "128603               DANGEROUS WEAPONS  PL 2650101          M           S   \n",
      "128733           FOR OTHER AUTHORITIES  FOA9000049          M           M   \n",
      "\n",
      "        ARREST_PRECINCT  JURISDICTION_CODE AGE_GROUP PERP_SEX  \\\n",
      "15                   25                  0     18-24        F   \n",
      "15                   25                  0     18-24        F   \n",
      "15                   25                  0     18-24        F   \n",
      "15                   25                  0     18-24        F   \n",
      "103                  84                  0     18-24        M   \n",
      "...                 ...                ...       ...      ...   \n",
      "128502               34                  0     25-44        M   \n",
      "128515              123                  0     45-64        M   \n",
      "128524              123                  0     25-44        M   \n",
      "128603              121                  0     25-44        M   \n",
      "128733                5                  0     25-44        M   \n",
      "\n",
      "                       PERP_RACE  X_COORD_CD  Y_COORD_CD   Latitude  \\\n",
      "15                WHITE HISPANIC           0           0   0.000000   \n",
      "15                WHITE HISPANIC           0           0   0.000000   \n",
      "15                WHITE HISPANIC           0           0   0.000000   \n",
      "15                WHITE HISPANIC           0           0   0.000000   \n",
      "103                        BLACK      987041      193534  40.697883   \n",
      "...                          ...         ...         ...        ...   \n",
      "128502                     BLACK     1003257      255828  40.868843   \n",
      "128515                     WHITE      919130      124097  40.507055   \n",
      "128524  ASIAN / PACIFIC ISLANDER      914928      125756  40.511577   \n",
      "128603                     BLACK      938426      170878  40.635580   \n",
      "128733                     WHITE      982682      199754  40.714957   \n",
      "\n",
      "        Longitude                      New Georeferenced Column  \n",
      "15       0.000000                                   POINT (0 0)  \n",
      "15       0.000000                                   POINT (0 0)  \n",
      "15       0.000000                                   POINT (0 0)  \n",
      "15       0.000000                                   POINT (0 0)  \n",
      "103    -73.989934                  POINT (-73.989934 40.697883)  \n",
      "...           ...                                           ...  \n",
      "128502 -73.931278  POINT (-73.93127811222519 40.86884279179812)  \n",
      "128515 -74.234175                  POINT (-74.234175 40.507055)  \n",
      "128524 -74.249302                  POINT (-74.249302 40.511577)  \n",
      "128603 -74.165099                   POINT (-74.165099 40.63558)  \n",
      "128733 -74.005654                  POINT (-74.005654 40.714957)  \n",
      "\n",
      "[4254 rows x 19 columns]\n"
     ]
    }
   ],
   "source": [
    "# Identify outliers where z-score is > 3\n",
    "outliers = np.where(z_scores > 3)\n",
    "print(\"Outliers based on Z-scores:\")\n",
    "print(nypd_df.iloc[outliers[0]])"
   ]
  },
  {
   "cell_type": "code",
   "execution_count": 54,
   "id": "024542ea-59a5-4f48-9953-3e95799d7d8a",
   "metadata": {},
   "outputs": [
    {
     "name": "stdout",
     "output_type": "stream",
     "text": [
      "LAW_CAT_CD  (null)  9  F  I  M  V\n",
      "LAW_CODE                         \n",
      "(null)           4  0  0  0  0  0\n",
      "ABC00000FE       0  0  1  0  0  0\n",
      "ABC00000MA       0  0  0  0  1  0\n",
      "ABC00000V0       0  0  0  0  0  1\n",
      "ABC0064A00       0  0  0  0  3  0\n",
      "...            ... .. .. .. .. ..\n",
      "VTL1225C2A       0  0  0  1  0  0\n",
      "VTL1225D01       0  0  0  1  0  0\n",
      "VTL1229C00       0  0  0  3  0  0\n",
      "VTL1229C03       0  0  0  3  0  0\n",
      "VTL21300A1       0  0  1  0  0  0\n",
      "\n",
      "[945 rows x 6 columns]\n"
     ]
    }
   ],
   "source": [
    "# Cross-tabulation between Law_Code and Gender\n",
    "cross_tab = pd.crosstab(nypd_df['LAW_CODE'], nypd_df['LAW_CAT_CD'])\n",
    "\n",
    "# Print the result\n",
    "print(cross_tab)"
   ]
  },
  {
   "cell_type": "code",
   "execution_count": 68,
   "id": "f1e9d90f-6e51-4bd6-b93d-826c3f3d05b1",
   "metadata": {},
   "outputs": [
    {
     "data": {
      "image/png": "[encoded data removed]",
      "text/plain": [
       "<Figure size 640x480 with 1 Axes>"
      ]
     },
     "metadata": {},
     "output_type": "display_data"
    }
   ],
   "source": [
    "# Scatter plot between Law_Code and Violations\n",
    "plt.scatter(nypd_df['LAW_CODE'], nypd_df['PERP_RACE'])\n",
    "plt.xlabel('Law Code')\n",
    "plt.ylabel('Race')\n",
    "plt.title('Bivariate Scatter Plot: Law Code vs Race')\n",
    "plt.show()"
   ]
  },
  {
   "cell_type": "markdown",
   "id": "dd94f225-9732-4855-b212-a5799c8d5722",
   "metadata": {},
   "source": [
    "### EXPLAIN YOUR REASON BEHIND YOUR CHOICE IN A SHORT PARAGRAPH."
   ]
  },
  {
   "cell_type": "code",
   "execution_count": null,
   "id": "93e72e67-ed23-4c7e-991f-cc5cb77f5655",
   "metadata": {},
   "outputs": [],
   "source": [
    "## To choose the right columns for a scatter plot, we typically look for two numeric columns that might show a relationship. For example,\n",
    "# if we have data on \"Number of Violations\" and \"Time of Incident,\" plotting these against each other could help us see if there are trends,\n",
    "# like whether more violations happen at certain times. The key is to pick variables that make sense together and could reveal interesting patterns or\n",
    "# insights when visualized. It’s all about finding connections that tell a story about the data."
   ]
  }
 ],
 "metadata": {
  "kernelspec": {
   "display_name": "Python 3 (ipykernel)",
   "language": "python",
   "name": "python3"
  },
  "language_info": {
   "codemirror_mode": {
    "name": "ipython",
    "version": 3
   },
   "file_extension": ".py",
   "mimetype": "text/x-python",
   "name": "python",
   "nbconvert_exporter": "python",
   "pygments_lexer": "ipython3",
   "version": "3.11.4"
  }
 },
 "nbformat": 4,
 "nbformat_minor": 5
}
